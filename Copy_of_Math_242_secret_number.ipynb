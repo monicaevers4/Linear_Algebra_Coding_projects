{
  "nbformat": 4,
  "nbformat_minor": 0,
  "metadata": {
    "colab": {
      "name": "Copy of Math_242_secret_number.ipynb",
      "provenance": [],
      "include_colab_link": true
    },
    "kernelspec": {
      "name": "python3",
      "display_name": "Python 3"
    }
  },
  "cells": [
    {
      "cell_type": "markdown",
      "metadata": {
        "id": "view-in-github",
        "colab_type": "text"
      },
      "source": [
        "<a href=\"https://colab.research.google.com/github/monicaevers4/Linear_Algebra_Coding_projects/blob/main/Copy_of_Math_242_secret_number.ipynb\" target=\"_parent\"><img src=\"https://colab.research.google.com/assets/colab-badge.svg\" alt=\"Open In Colab\"/></a>"
      ]
    },
    {
      "cell_type": "markdown",
      "metadata": {
        "id": "Ry_o-kLL_-wf"
      },
      "source": [
        "# Load the preliminary code"
      ]
    },
    {
      "cell_type": "code",
      "metadata": {
        "id": "dhOLtwrRRc9S"
      },
      "source": [
        "import matplotlib.pyplot as plt\n",
        "from sympy import Poly\n",
        "import sympy as sym\n",
        "import numpy as np\n",
        "from numpy import c_\n",
        "\n",
        "# We'll specify that x and t are variables:\n",
        "x, t = sym.symbols('x, t')\n",
        "\n",
        "ll = \"loaded\""
      ],
      "execution_count": 1,
      "outputs": []
    },
    {
      "cell_type": "code",
      "metadata": {
        "id": "AHRXKhal_Wcj",
        "colab": {
          "base_uri": "https://localhost:8080/"
        },
        "outputId": "0f59b1f7-c6d9-4996-bd99-4e3726a9e5e9"
      },
      "source": [
        "lll = \" correctly!\"\n",
        "\n",
        "def rref(matrix):\n",
        "    A = np.array(matrix, dtype=np.float64)\n",
        "    \n",
        "    r = 0 #row\n",
        "    c = 0 #column\n",
        "\n",
        "    (maxr, maxc) = A.shape\n",
        "\n",
        "    prev_row_pivot = -1   # The previous row with a leading term:\n",
        "    tmp_pivot_row = -1\n",
        "    this_pivot_row = -1\n",
        "\n",
        "    for c in range(maxc):  # go through each column\n",
        "      tmp_pivot_row = -1  # reset the tmp pivot row\n",
        "      this_pivot_row = -1  # reset this pivot row\n",
        "      for r in range(maxr):  # Find the leading term in this column below prev_row_pivot\n",
        "        if ((r > prev_row_pivot) and (A[r][c] != 0.0)):\n",
        "          tmp_pivot_row = r  # find the new pivot row\n",
        "      if (tmp_pivot_row > -1):  # we found a candidate for the leading term:\n",
        "        #swap row this_pivot_row with (prev_row_pivot + 1)\n",
        "        A[[tmp_pivot_row, prev_row_pivot+1]] = A[[prev_row_pivot + 1, tmp_pivot_row]]\n",
        "        #set this_pivot_row to prev_row_pivot+1\n",
        "        this_pivot_row = prev_row_pivot + 1\n",
        "        #Now, normalize the row based on the pivot value:\n",
        "        A[ this_pivot_row ] = A[ this_pivot_row ] / A[ this_pivot_row ][c]\n",
        "        #Then, use this row to force 0's above and below the pivot entry:\n",
        "        #subtract multiples of of the this_pivot_row row from the others\n",
        "        for r_ in range(len(A)):\n",
        "            if r_ != this_pivot_row:\n",
        "                A[r_] = A[r_] - A[this_pivot_row] * A[r_][c] / A[this_pivot_row][c]\n",
        "        prev_row_pivot = this_pivot_row\n",
        "    return A    \n",
        "    \n",
        "    \n",
        "\n",
        "print(\">> The page \", ll, lll)"
      ],
      "execution_count": 2,
      "outputs": [
        {
          "output_type": "stream",
          "name": "stdout",
          "text": [
            ">> The page  loaded  correctly!\n"
          ]
        }
      ]
    },
    {
      "cell_type": "markdown",
      "metadata": {
        "id": "xVLAg1tp7aJX"
      },
      "source": [
        "# Set up the secret number"
      ]
    },
    {
      "cell_type": "markdown",
      "metadata": {
        "id": "2c12Csd440sV"
      },
      "source": [
        "You'll encode a secret number $s$ into a 4th or 5th degree polynomial as its vertical intercept.\n",
        "\n",
        "Once you've chosen $s$, then create a 4th or 5th degree polynomial $f$ such that the vertical intercept is $s$.\n"
      ]
    },
    {
      "cell_type": "code",
      "metadata": {
        "id": "bSeZFmS4vQWk",
        "colab": {
          "base_uri": "https://localhost:8080/",
          "height": 38
        },
        "outputId": "6949caee-a60b-45a9-a438-50739b0edf29"
      },
      "source": [
        "# the secret number is s:\n",
        "\n",
        "s = 2**(1/2)\n",
        "\n",
        "p = Poly(6*x**5-4*x**4+69*x**3-13*x**2+28*x+2**(1/2), x, domain='RR')\n",
        "\n",
        "p"
      ],
      "execution_count": 4,
      "outputs": [
        {
          "output_type": "execute_result",
          "data": {
            "text/latex": "$\\displaystyle \\operatorname{Poly}{\\left( 6.0 x^{5} - 4.0 x^{4} + 69.0 x^{3} - 13.0 x^{2} + 28.0 x + 1.4142135623731, x, domain=\\mathbb{R} \\right)}$",
            "text/plain": [
              "Poly(6.0*x**5 - 4.0*x**4 + 69.0*x**3 - 13.0*x**2 + 28.0*x + 1.4142135623731, x, domain='RR')"
            ]
          },
          "metadata": {},
          "execution_count": 4
        }
      ]
    },
    {
      "cell_type": "code",
      "metadata": {
        "id": "buHLWqEJ5Hds",
        "colab": {
          "base_uri": "https://localhost:8080/",
          "height": 37
        },
        "outputId": "5465f14a-cd3a-4eb1-e704-f6f3141ec7b6"
      },
      "source": [
        "#  Change this to evaluate the polynomial at 0:\n",
        "p.eval(x, 0.1)\n",
        "\n",
        "# Check that this is your secret number:"
      ],
      "execution_count": 18,
      "outputs": [
        {
          "output_type": "execute_result",
          "data": {
            "text/latex": "$\\displaystyle 4.1528735623731$",
            "text/plain": [
              "4.15287356237310"
            ]
          },
          "metadata": {},
          "execution_count": 18
        }
      ]
    },
    {
      "cell_type": "markdown",
      "metadata": {
        "id": "ls3V1Lrnyr2P"
      },
      "source": [
        "# Generate your data points\n",
        "\n",
        "Use this code to generate the data points for your polynomial.  Write the data on the second page of your handout.  \n",
        "\n",
        "Writing \n",
        "\n",
        "```\n",
        "p.eval(x, 3)\n",
        "```\n",
        "\n",
        "will evaluate $p$ when $x = 3$.  Just change the $3$ to any value to evaluate $p$ at that input.\n",
        "\n",
        "Remember:  Keep your secret number and polynomial hidden."
      ]
    },
    {
      "cell_type": "code",
      "metadata": {
        "id": "5Ef1euoHynYu",
        "colab": {
          "base_uri": "https://localhost:8080/",
          "height": 37
        },
        "outputId": "8721233f-8fee-4a98-984e-7c6a1638d5f5"
      },
      "source": [
        "p.eval(x, 3)"
      ],
      "execution_count": null,
      "outputs": [
        {
          "output_type": "execute_result",
          "data": {
            "text/latex": "$\\displaystyle 1162261487.0$",
            "text/plain": [
              "1162261487.00000"
            ]
          },
          "metadata": {},
          "execution_count": 5
        }
      ]
    },
    {
      "cell_type": "markdown",
      "metadata": {
        "id": "a6e9mXs-z3qV"
      },
      "source": [
        "#  Decode the polynomial from another group\n",
        "\n",
        "In this section, we set up a linear system to find the polynomial and the secret number which was given to us by another group.\n",
        "\n",
        "First, set up a linear algebra system to find the polynomial on the handout and then enter the matrix here.  You may have to adjust the size of the matrix below to accommodate your data."
      ]
    },
    {
      "cell_type": "code",
      "metadata": {
        "id": "aC4OSnZ20YDh",
        "colab": {
          "base_uri": "https://localhost:8080/"
        },
        "outputId": "8021ac3b-34a3-446d-c2b5-8ea2fc376cf9"
      },
      "source": [
        "# create the matrix:\n",
        "A = np.matrix([[1, 3, 3**2, 3**3, 3**4, 3**5],\n",
        "               [1, 7, 7**2, 7**3, 7**4, 7**5],\n",
        "               [1, (-3), (-3)**2, (-3)**3, (-3)**4, (-3)**5],\n",
        "               [1, (-7), (-7)**2, (-7)**3, (-7)**4, (-7)**5],\n",
        "               [1, 1, 1**2, 1**3, 1**4, 1**5],\n",
        "               [1, (-1), (-1)**2, (-1)**3, (-1)**4, (-1)**5]])\n",
        " \n",
        "# create the vector for the right hand side:\n",
        "b = np.matrix([[-102.764], [9.236], [269.236], [4797.236], [-2.764], [9.236]])\n",
        "\n",
        "#Make sure the system looks appropriate:\n",
        "\n",
        "print(np.c_[A,b])"
      ],
      "execution_count": 19,
      "outputs": [
        {
          "output_type": "stream",
          "name": "stdout",
          "text": [
            "[[ 1.000000e+00  3.000000e+00  9.000000e+00  2.700000e+01  8.100000e+01\n",
            "   2.430000e+02 -1.027640e+02]\n",
            " [ 1.000000e+00  7.000000e+00  4.900000e+01  3.430000e+02  2.401000e+03\n",
            "   1.680700e+04  9.236000e+00]\n",
            " [ 1.000000e+00 -3.000000e+00  9.000000e+00 -2.700000e+01  8.100000e+01\n",
            "  -2.430000e+02  2.692360e+02]\n",
            " [ 1.000000e+00 -7.000000e+00  4.900000e+01 -3.430000e+02  2.401000e+03\n",
            "  -1.680700e+04  4.797236e+03]\n",
            " [ 1.000000e+00  1.000000e+00  1.000000e+00  1.000000e+00  1.000000e+00\n",
            "   1.000000e+00 -2.764000e+00]\n",
            " [ 1.000000e+00 -1.000000e+00  1.000000e+00 -1.000000e+00  1.000000e+00\n",
            "  -1.000000e+00  9.236000e+00]]\n"
          ]
        }
      ]
    },
    {
      "cell_type": "markdown",
      "metadata": {
        "id": "EDZT8emc5iGZ"
      },
      "source": [
        "##  Solve using Row Operations:\n",
        "\n",
        "We'll solve the augmented matrix  $\\left( A \\, | \\, \\vec{b} \\right)$ using the function\n",
        "\n",
        "```\n",
        "rref(np.c_[A,b])\n",
        "```\n",
        "\n",
        "to provide the reduced row echelon form of the matrix system $\\left(A \\, | \\, \\vec{b} \\right)$.\n"
      ]
    },
    {
      "cell_type": "code",
      "metadata": {
        "id": "9Qhe2zZjYAVL",
        "colab": {
          "base_uri": "https://localhost:8080/"
        },
        "outputId": "40afed33-d682-44dc-a06b-223752d06f4a"
      },
      "source": [
        "print(rref(np.c_[A,b]))"
      ],
      "execution_count": 20,
      "outputs": [
        {
          "output_type": "stream",
          "name": "stdout",
          "text": [
            "[[ 1.     0.     0.     0.     0.     0.     2.236]\n",
            " [ 0.     1.     0.     0.     0.     0.     1.   ]\n",
            " [ 0.     0.     1.     0.     0.     0.     0.   ]\n",
            " [-0.    -0.    -0.     1.     0.     0.    -7.   ]\n",
            " [ 0.     0.     0.     0.     1.     0.     1.   ]\n",
            " [ 0.     0.     0.     0.     0.     1.     0.   ]]\n"
          ]
        }
      ]
    },
    {
      "cell_type": "markdown",
      "metadata": {
        "id": "6xHgTqYr1fuP"
      },
      "source": [
        "## Solve the system using numerical methods:\n",
        "\n",
        "We can also generate a solution using some more advanced numerical linear algebra techniques contained inside Numpy.\n",
        "\n",
        "To solve it this way, use:\n",
        "\n",
        "\n",
        "\n",
        "```\n",
        "np.linalg.solve(A,b)\n",
        "```\n",
        "\n",
        "or\n",
        "\n",
        "```\n",
        "np.linalg.lstsq(A,b,rcond=None)\n",
        "```\n",
        "\n"
      ]
    },
    {
      "cell_type": "code",
      "metadata": {
        "id": "769dXoztlBcx",
        "colab": {
          "base_uri": "https://localhost:8080/"
        },
        "outputId": "269778a5-e925-40c5-e105-6dec1ac83889"
      },
      "source": [
        "# Solve the system using a numerical linear algebra solution:\n",
        "np.linalg.solve(A,b)"
      ],
      "execution_count": 21,
      "outputs": [
        {
          "output_type": "execute_result",
          "data": {
            "text/plain": [
              "matrix([[ 2.23600000e+00],\n",
              "        [ 1.00000000e+00],\n",
              "        [-1.82710989e-14],\n",
              "        [-7.00000000e+00],\n",
              "        [ 1.00000000e+00],\n",
              "        [-2.59052039e-16]])"
            ]
          },
          "metadata": {},
          "execution_count": 21
        }
      ]
    },
    {
      "cell_type": "code",
      "metadata": {
        "id": "ZEjNcqQvQbYo",
        "colab": {
          "base_uri": "https://localhost:8080/"
        },
        "outputId": "7172f062-829c-4f48-a20f-e272c2036ad6"
      },
      "source": [
        "# Solve the system using the numerical least squares method:\n",
        "np.linalg.lstsq(A,b,rcond=None)"
      ],
      "execution_count": 22,
      "outputs": [
        {
          "output_type": "execute_result",
          "data": {
            "text/plain": [
              "(matrix([[ 2.23600000e+00],\n",
              "         [ 1.00000000e+00],\n",
              "         [ 1.88328641e-14],\n",
              "         [-7.00000000e+00],\n",
              "         [ 1.00000000e+00],\n",
              "         [-1.44834786e-16]]),\n",
              " matrix([], shape=(1, 0), dtype=float64),\n",
              " 6,\n",
              " array([2.37761326e+04, 3.39817369e+03, 3.14677120e+01, 1.05882109e+01,\n",
              "        1.21940823e+00, 1.20744694e+00]))"
            ]
          },
          "metadata": {},
          "execution_count": 22
        }
      ]
    }
  ]
}