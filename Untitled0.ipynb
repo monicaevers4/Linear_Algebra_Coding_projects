{
  "nbformat": 4,
  "nbformat_minor": 0,
  "metadata": {
    "colab": {
      "name": "Untitled0.ipynb",
      "provenance": [],
      "authorship_tag": "ABX9TyPHIE5CtNO0mbHAYfmcQDjx",
      "include_colab_link": true
    },
    "kernelspec": {
      "name": "python3",
      "display_name": "Python 3"
    },
    "language_info": {
      "name": "python"
    }
  },
  "cells": [
    {
      "cell_type": "markdown",
      "metadata": {
        "id": "view-in-github",
        "colab_type": "text"
      },
      "source": [
        "<a href=\"https://colab.research.google.com/github/monicaevers4/Linear_Algebra_Coding_projects/blob/main/Untitled0.ipynb\" target=\"_parent\"><img src=\"https://colab.research.google.com/assets/colab-badge.svg\" alt=\"Open In Colab\"/></a>"
      ]
    },
    {
      "cell_type": "code",
      "metadata": {
        "id": "p8JQpjiiz8FM"
      },
      "source": [
        "import matplotlib.pyplot as plt\n",
        "from sympy import Poly\n",
        "import sympy as sym\n",
        "import numpy as np\n",
        "from numpy import c_\n",
        "\n",
        "# We'll specify that x and t are variables:\n",
        "x, t = sym.symbols('x, t')\n",
        "\n",
        "ll = \"loaded\""
      ],
      "execution_count": 1,
      "outputs": []
    },
    {
      "cell_type": "code",
      "metadata": {
        "colab": {
          "base_uri": "https://localhost:8080/"
        },
        "id": "V7blIsFU0ZXF",
        "outputId": "bcc11471-dc18-48d9-e840-8a58f01f5251"
      },
      "source": [
        "# Create a vector:\n",
        "r = np.matrix('1; 2; 3; 4')\n",
        "r"
      ],
      "execution_count": 3,
      "outputs": [
        {
          "output_type": "execute_result",
          "data": {
            "text/plain": [
              "matrix([[1],\n",
              "        [2],\n",
              "        [3],\n",
              "        [4]])"
            ]
          },
          "metadata": {},
          "execution_count": 3
        }
      ]
    },
    {
      "cell_type": "code",
      "metadata": {
        "colab": {
          "base_uri": "https://localhost:8080/",
          "height": 164
        },
        "id": "yuWhLBO61mmR",
        "outputId": "3c623d9e-e4ae-48b5-e7f4-4d446472a537"
      },
      "source": [
        "r.dot()"
      ],
      "execution_count": 4,
      "outputs": [
        {
          "output_type": "error",
          "ename": "ValueError",
          "evalue": "ignored",
          "traceback": [
            "\u001b[0;31m---------------------------------------------------------------------------\u001b[0m",
            "\u001b[0;31mValueError\u001b[0m                                Traceback (most recent call last)",
            "\u001b[0;32m<ipython-input-4-8c7c01da82d3>\u001b[0m in \u001b[0;36m<module>\u001b[0;34m()\u001b[0m\n\u001b[0;32m----> 1\u001b[0;31m \u001b[0mr\u001b[0m\u001b[0;34m.\u001b[0m\u001b[0mdot\u001b[0m\u001b[0;34m(\u001b[0m\u001b[0mr\u001b[0m\u001b[0;34m)\u001b[0m\u001b[0;34m\u001b[0m\u001b[0;34m\u001b[0m\u001b[0m\n\u001b[0m",
            "\u001b[0;31mValueError\u001b[0m: shapes (4,1) and (4,1) not aligned: 1 (dim 1) != 4 (dim 0)"
          ]
        }
      ]
    },
    {
      "cell_type": "code",
      "metadata": {
        "id": "HSO-yqhz2Ipu"
      },
      "source": [
        "# create a vector as an array:\n",
        "s = np.array([1, 2, 3,4])"
      ],
      "execution_count": 8,
      "outputs": []
    },
    {
      "cell_type": "code",
      "metadata": {
        "colab": {
          "base_uri": "https://localhost:8080/"
        },
        "id": "fIr3hzM92eHv",
        "outputId": "22c26320-6b4c-4b73-fa2f-0b9c79f11883"
      },
      "source": [
        "# do a dot product:\n",
        "s.dot(s)"
      ],
      "execution_count": 9,
      "outputs": [
        {
          "output_type": "execute_result",
          "data": {
            "text/plain": [
              "30"
            ]
          },
          "metadata": {},
          "execution_count": 9
        }
      ]
    },
    {
      "cell_type": "code",
      "metadata": {
        "colab": {
          "base_uri": "https://localhost:8080/"
        },
        "id": "FU1b8sXQ2q_W",
        "outputId": "0a0fce73-34b1-4f19-92f0-bef1b1ad6324"
      },
      "source": [
        "# the size of s:\n",
        "np.sqrt(s.dot(s))"
      ],
      "execution_count": 10,
      "outputs": [
        {
          "output_type": "execute_result",
          "data": {
            "text/plain": [
              "5.477225575051661"
            ]
          },
          "metadata": {},
          "execution_count": 10
        }
      ]
    },
    {
      "cell_type": "markdown",
      "metadata": {
        "id": "BgEldB_O3Vcn"
      },
      "source": [
        "Using the Gram-Schmidt Orthonormalization Process\n"
      ]
    },
    {
      "cell_type": "code",
      "metadata": {
        "colab": {
          "base_uri": "https://localhost:8080/"
        },
        "id": "AesiZQYp3fAw",
        "outputId": "7e252ee4-1999-446e-8171-8c87f8471d5f"
      },
      "source": [
        "# the messy vector\n",
        "r1 = np.array([2, 4, 0, 0])\n",
        "r2 = np.array([1, 2, 3, 6])\n",
        "r3 = np.array([2, -1, 2, -1])\n",
        "r4 = np.array([1, 2, 3, 4])\n",
        "r4"
      ],
      "execution_count": 16,
      "outputs": [
        {
          "output_type": "execute_result",
          "data": {
            "text/plain": [
              "array([1, 2, 3, 4])"
            ]
          },
          "metadata": {},
          "execution_count": 16
        }
      ]
    },
    {
      "cell_type": "code",
      "metadata": {
        "colab": {
          "base_uri": "https://localhost:8080/"
        },
        "id": "z9Ido8wc3rkd",
        "outputId": "d865743c-4805-4631-cb60-7dfa9d5a1718"
      },
      "source": [
        "# find the first nice basis vector:\n",
        "t1 = r1\n",
        "# subtract off the nice basis vectors\n",
        "# Nothing yet!\n",
        "\n",
        "# find the magnitude of t1:\n",
        "n1 = np.sqrt(t1.dot(t1))\n",
        "\n",
        "# so, u1 = (1/n1) * t1\n",
        "u1 = (1/n1) * t1\n",
        "u1"
      ],
      "execution_count": 21,
      "outputs": [
        {
          "output_type": "execute_result",
          "data": {
            "text/plain": [
              "array([0.4472136 , 0.89442719, 0.        , 0.        ])"
            ]
          },
          "metadata": {},
          "execution_count": 21
        }
      ]
    },
    {
      "cell_type": "code",
      "metadata": {
        "colab": {
          "base_uri": "https://localhost:8080/"
        },
        "id": "0_1--Dk-4PJj",
        "outputId": "a4d04136-dae0-484d-b08e-3f991cb9210a"
      },
      "source": [
        "# verify that u1 has size 1 and is orthogonal to all other u vectors\n",
        "\n",
        "u1.dot(u1)"
      ],
      "execution_count": 22,
      "outputs": [
        {
          "output_type": "execute_result",
          "data": {
            "text/plain": [
              "0.9999999999999999"
            ]
          },
          "metadata": {},
          "execution_count": 22
        }
      ]
    },
    {
      "cell_type": "code",
      "metadata": {
        "colab": {
          "base_uri": "https://localhost:8080/"
        },
        "id": "iVhU2tzs5kQn",
        "outputId": "c8cc898c-4bd2-4934-e16d-216fd3c0bfe0"
      },
      "source": [
        "# find the first nice basis vector:\n",
        "t2 = r2\n",
        "# subtract off the nice basis vectors\n",
        "t2 = r2 - (r2.dot(u1)) * u1\n",
        "\n",
        "# find the magnitude of t1:\n",
        "n2 = np.sqrt(t2.dot(t2))\n",
        "\n",
        "# so, u2 = (1/n2) * t2\n",
        "u2 = (1/n2) * t2\n",
        "u2"
      ],
      "execution_count": 26,
      "outputs": [
        {
          "output_type": "execute_result",
          "data": {
            "text/plain": [
              "array([0.        , 0.        , 0.4472136 , 0.89442719])"
            ]
          },
          "metadata": {},
          "execution_count": 26
        }
      ]
    },
    {
      "cell_type": "code",
      "metadata": {
        "colab": {
          "base_uri": "https://localhost:8080/"
        },
        "id": "gOjWn4yJ6fUW",
        "outputId": "fdd15603-b496-4341-ba1f-e71881018d74"
      },
      "source": [
        "# verify\n",
        "print(\"The (squared) size or u2 =\", u2.dot(u2))\n",
        "print( \"u2.u1 =\", u2.dot(u1))"
      ],
      "execution_count": 30,
      "outputs": [
        {
          "output_type": "stream",
          "name": "stdout",
          "text": [
            "The (squared) size or u2 = 1.0000000000000002\n",
            "u2.u1 = 0.0\n"
          ]
        }
      ]
    },
    {
      "cell_type": "code",
      "metadata": {
        "colab": {
          "base_uri": "https://localhost:8080/"
        },
        "id": "9A8QFNfA7KYM",
        "outputId": "c4260efb-ff47-4a85-d2ab-3bde1af8d30a"
      },
      "source": [
        "# find the first nice basis vector:\n",
        "t3 = r3\n",
        "# subtract off the nice basis vectors\n",
        "t3 = r3 - (r3.dot(u1)) * u1 - (r3.dot(u2)) * u2\n",
        "\n",
        "# find the magnitude of t1:\n",
        "n3 = np.sqrt(t3.dot(t3))\n",
        "\n",
        "# so, u3 = (1/n3) * t3\n",
        "u3 = (1/n3) * t3\n",
        "u3"
      ],
      "execution_count": 31,
      "outputs": [
        {
          "output_type": "execute_result",
          "data": {
            "text/plain": [
              "array([ 0.63245553, -0.31622777,  0.63245553, -0.31622777])"
            ]
          },
          "metadata": {},
          "execution_count": 31
        }
      ]
    },
    {
      "cell_type": "code",
      "metadata": {
        "colab": {
          "base_uri": "https://localhost:8080/"
        },
        "id": "kZ_Bp5QF7hSN",
        "outputId": "b43ae1f2-8fed-4f03-9155-5f89e03a79c4"
      },
      "source": [
        "# verify\n",
        "print(\"The (squared) size or u3 =\", u3.dot(u3))\n",
        "print( \"u3.u1 =\", u3.dot(u1))\n",
        "print( \"u3.u2 =\", u3.dot(u2))"
      ],
      "execution_count": 34,
      "outputs": [
        {
          "output_type": "stream",
          "name": "stdout",
          "text": [
            "The (squared) size or u3 = 1.0\n",
            "u3.u1 = -2.6816343567205363e-18\n",
            "u3.u2 = 1.772118218877028e-17\n"
          ]
        }
      ]
    },
    {
      "cell_type": "code",
      "metadata": {
        "colab": {
          "base_uri": "https://localhost:8080/"
        },
        "id": "IpNw-tHz8M9O",
        "outputId": "071fa53b-4a1b-40ce-97d4-7c5f487055cc"
      },
      "source": [
        "# find the first nice basis vector:\n",
        "t4 = r4\n",
        "# subtract off the nice basis vectors\n",
        "t4 = r4 - (r4.dot(u1)) * u1 - (r4.dot(u2)) * u2 - (r4.dot(u3)) * u3\n",
        "\n",
        "# find the magnitude of t1:\n",
        "n4 = np.sqrt(t4.dot(t4))\n",
        "\n",
        "# so, u4 = (1/n4) * t4\n",
        "u4 = (1/n4) * t4\n",
        "u4"
      ],
      "execution_count": 35,
      "outputs": [
        {
          "output_type": "execute_result",
          "data": {
            "text/plain": [
              "array([-0.63245553,  0.31622777,  0.63245553, -0.31622777])"
            ]
          },
          "metadata": {},
          "execution_count": 35
        }
      ]
    },
    {
      "cell_type": "code",
      "metadata": {
        "id": "ObRkYseB8vhJ"
      },
      "source": [
        "# verify\n",
        "print(\"The (squared) size or u3 =\", u3.dot(u3))\n",
        "print( \"u3.u1 =\", u3.dot(u1))\n",
        "print( \"u3.u2 =\", u3.dot(u2))\n"
      ],
      "execution_count": null,
      "outputs": []
    }
  ]
}