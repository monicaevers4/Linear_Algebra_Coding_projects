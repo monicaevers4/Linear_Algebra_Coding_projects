{
  "nbformat": 4,
  "nbformat_minor": 0,
  "metadata": {
    "colab": {
      "name": "derivatives.ipynb",
      "provenance": [],
      "authorship_tag": "ABX9TyOamrsAbX/mdqN1Abwlaey2",
      "include_colab_link": true
    },
    "kernelspec": {
      "name": "python3",
      "display_name": "Python 3"
    },
    "language_info": {
      "name": "python"
    }
  },
  "cells": [
    {
      "cell_type": "markdown",
      "metadata": {
        "id": "view-in-github",
        "colab_type": "text"
      },
      "source": [
        "<a href=\"https://colab.research.google.com/github/monicaevers4/Linear_Algebra_Coding_projects/blob/main/derivatives.ipynb\" target=\"_parent\"><img src=\"https://colab.research.google.com/assets/colab-badge.svg\" alt=\"Open In Colab\"/></a>"
      ]
    },
    {
      "cell_type": "code",
      "metadata": {
        "id": "uJot-idmiz2K"
      },
      "source": [
        "import matplotlib.pyplot as plt\n",
        "from sympy import Poly\n",
        "import sympy as sym\n",
        "import numpy as np\n",
        "from numpy import c_\n",
        "\n",
        "# We'll specify that x and t are variables:\n",
        "x, t = sym.symbols('x, t')\n",
        "\n",
        "ll = \"loaded\""
      ],
      "execution_count": 1,
      "outputs": []
    },
    {
      "cell_type": "code",
      "metadata": {
        "colab": {
          "base_uri": "https://localhost:8080/"
        },
        "id": "WrrdIYYxi6xt",
        "outputId": "bdbf6747-394d-4f88-f73b-afcbf35e7413"
      },
      "source": [
        "A = np.matrix([[10, 7],\n",
        "                [8, 9]])\n",
        "\n",
        "B = np.matrix([[-10, -1],\n",
        "                [-4, 7]])\n",
        "\n",
        "C = np.matrix([[1, -3],\n",
        "               [7, 7]])\n",
        "\n",
        "print(\"A * B * C\", A * B * C)\n",
        "print(\"A * C * B\", A * C * B)\n",
        "print(\"C * B * A\", C * B * A)"
      ],
      "execution_count": 6,
      "outputs": [
        {
          "output_type": "stream",
          "name": "stdout",
          "text": [
            "A * B * C [[145 657]\n",
            " [269 733]]\n",
            "A * C * B [[-666   74]\n",
            " [-866  202]]\n",
            "C * B * A [[-156 -184]\n",
            " [-644 -308]]\n"
          ]
        }
      ]
    },
    {
      "cell_type": "code",
      "metadata": {
        "colab": {
          "base_uri": "https://localhost:8080/"
        },
        "id": "qK8BD2s0nm1t",
        "outputId": "cb6dbf26-1368-4e09-a9f0-fd9def6c5c87"
      },
      "source": [
        "D = np.matrix([[3, 2, 3],\n",
        "               [-6, 1, -10],\n",
        "               [-8, -9, -9]])\n",
        "\n",
        "E = np.matrix([[1, -2, 1],\n",
        "               [5, 5, 4],\n",
        "               [4, 0, 0]])\n",
        "\n",
        "F = np.matrix([[1, 0, 0],\n",
        "               [0, 2, 0],\n",
        "               [-3, -2, 1]])\n",
        "\n",
        "print(\"D * E * F\", D * E * F)\n",
        "print(\"det(D * E * F)\", np.linalg.det(D * E * F) )"
      ],
      "execution_count": 15,
      "outputs": [
        {
          "output_type": "stream",
          "name": "stdout",
          "text": [
            "D * E * F [[ -8 -14  11]\n",
            " [-35  38  -2]\n",
            " [ 43  30 -44]]\n",
            "det(D * E * F) 6135.999999999995\n"
          ]
        }
      ]
    }
  ]
}